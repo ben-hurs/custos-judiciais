{
 "cells": [
  {
   "cell_type": "markdown",
   "metadata": {},
   "source": [
    "# Bibliotecas"
   ]
  },
  {
   "cell_type": "code",
   "execution_count": 34,
   "metadata": {},
   "outputs": [],
   "source": [
    "import pandas as pd\n",
    "import numpy as np\n",
    "from scipy.stats import t"
   ]
  },
  {
   "cell_type": "markdown",
   "metadata": {},
   "source": [
    "# Leitura de dados"
   ]
  },
  {
   "cell_type": "code",
   "execution_count": 5,
   "metadata": {},
   "outputs": [
    {
     "data": {
      "text/html": [
       "<div>\n",
       "<style scoped>\n",
       "    .dataframe tbody tr th:only-of-type {\n",
       "        vertical-align: middle;\n",
       "    }\n",
       "\n",
       "    .dataframe tbody tr th {\n",
       "        vertical-align: top;\n",
       "    }\n",
       "\n",
       "    .dataframe thead th {\n",
       "        text-align: right;\n",
       "    }\n",
       "</style>\n",
       "<table border=\"1\" class=\"dataframe\">\n",
       "  <thead>\n",
       "    <tr style=\"text-align: right;\">\n",
       "      <th></th>\n",
       "      <th>Sentença</th>\n",
       "      <th>Data_Julgamento</th>\n",
       "      <th>Região da Comarca</th>\n",
       "      <th>Tipo de Estratégia</th>\n",
       "      <th>Taxa Contratada</th>\n",
       "      <th>Valor Indenização</th>\n",
       "    </tr>\n",
       "  </thead>\n",
       "  <tbody>\n",
       "    <tr>\n",
       "      <th>0</th>\n",
       "      <td>1</td>\n",
       "      <td>2019-07-01</td>\n",
       "      <td>Oeste</td>\n",
       "      <td>Estrategia C</td>\n",
       "      <td>3.1</td>\n",
       "      <td>0.000000</td>\n",
       "    </tr>\n",
       "    <tr>\n",
       "      <th>1</th>\n",
       "      <td>1</td>\n",
       "      <td>2019-07-01</td>\n",
       "      <td>Norte</td>\n",
       "      <td>Estrategia C</td>\n",
       "      <td>2.5</td>\n",
       "      <td>0.000000</td>\n",
       "    </tr>\n",
       "    <tr>\n",
       "      <th>2</th>\n",
       "      <td>0</td>\n",
       "      <td>2019-07-02</td>\n",
       "      <td>Sul</td>\n",
       "      <td>Estrategia A</td>\n",
       "      <td>4.0</td>\n",
       "      <td>2247.437094</td>\n",
       "    </tr>\n",
       "    <tr>\n",
       "      <th>3</th>\n",
       "      <td>1</td>\n",
       "      <td>2019-07-02</td>\n",
       "      <td>Sul</td>\n",
       "      <td>Estrategia B</td>\n",
       "      <td>2.6</td>\n",
       "      <td>0.000000</td>\n",
       "    </tr>\n",
       "    <tr>\n",
       "      <th>4</th>\n",
       "      <td>1</td>\n",
       "      <td>2019-07-03</td>\n",
       "      <td>Oeste</td>\n",
       "      <td>Estrategia B</td>\n",
       "      <td>4.1</td>\n",
       "      <td>0.000000</td>\n",
       "    </tr>\n",
       "  </tbody>\n",
       "</table>\n",
       "</div>"
      ],
      "text/plain": [
       "   Sentença Data_Julgamento Região da Comarca Tipo de Estratégia   \n",
       "0         1      2019-07-01             Oeste       Estrategia C  \\\n",
       "1         1      2019-07-01             Norte       Estrategia C   \n",
       "2         0      2019-07-02               Sul       Estrategia A   \n",
       "3         1      2019-07-02               Sul       Estrategia B   \n",
       "4         1      2019-07-03             Oeste       Estrategia B   \n",
       "\n",
       "   Taxa Contratada  Valor Indenização  \n",
       "0              3.1           0.000000  \n",
       "1              2.5           0.000000  \n",
       "2              4.0        2247.437094  \n",
       "3              2.6           0.000000  \n",
       "4              4.1           0.000000  "
      ]
     },
     "execution_count": 5,
     "metadata": {},
     "output_type": "execute_result"
    }
   ],
   "source": [
    "df = pd.read_excel(\"Base_Juridico.xlsx\", sheet_name=1)\n",
    "df.head()"
   ]
  },
  {
   "cell_type": "code",
   "execution_count": 19,
   "metadata": {},
   "outputs": [
    {
     "name": "stdout",
     "output_type": "stream",
     "text": [
      "Número de Linhas:  450\n",
      "Número de Colunas:  6\n"
     ]
    }
   ],
   "source": [
    "print('Número de Linhas: ', df.shape[0])\n",
    "print('Número de Colunas: ', df.shape[1])"
   ]
  },
  {
   "cell_type": "code",
   "execution_count": 6,
   "metadata": {},
   "outputs": [
    {
     "data": {
      "text/plain": [
       "Sentença                       int64\n",
       "Data_Julgamento       datetime64[ns]\n",
       "Região da Comarca             object\n",
       "Tipo de Estratégia            object\n",
       "Taxa Contratada              float64\n",
       "Valor Indenização            float64\n",
       "dtype: object"
      ]
     },
     "execution_count": 6,
     "metadata": {},
     "output_type": "execute_result"
    }
   ],
   "source": [
    "df.dtypes"
   ]
  },
  {
   "cell_type": "markdown",
   "metadata": {},
   "source": [
    "# Análise Exploratória"
   ]
  },
  {
   "cell_type": "markdown",
   "metadata": {},
   "source": [
    "## Região Comarca\n",
    "\n",
    "Temos uma distribuição bem simetrica de dados entre as regiões"
   ]
  },
  {
   "cell_type": "code",
   "execution_count": 12,
   "metadata": {},
   "outputs": [
    {
     "data": {
      "text/html": [
       "<div>\n",
       "<style scoped>\n",
       "    .dataframe tbody tr th:only-of-type {\n",
       "        vertical-align: middle;\n",
       "    }\n",
       "\n",
       "    .dataframe tbody tr th {\n",
       "        vertical-align: top;\n",
       "    }\n",
       "\n",
       "    .dataframe thead th {\n",
       "        text-align: right;\n",
       "    }\n",
       "</style>\n",
       "<table border=\"1\" class=\"dataframe\">\n",
       "  <thead>\n",
       "    <tr style=\"text-align: right;\">\n",
       "      <th></th>\n",
       "      <th>Frequência Absoluta</th>\n",
       "      <th>Frequência Relativa</th>\n",
       "    </tr>\n",
       "    <tr>\n",
       "      <th>Região da Comarca</th>\n",
       "      <th></th>\n",
       "      <th></th>\n",
       "    </tr>\n",
       "  </thead>\n",
       "  <tbody>\n",
       "    <tr>\n",
       "      <th>Centro</th>\n",
       "      <td>95</td>\n",
       "      <td>21.11</td>\n",
       "    </tr>\n",
       "    <tr>\n",
       "      <th>Sul</th>\n",
       "      <td>93</td>\n",
       "      <td>20.67</td>\n",
       "    </tr>\n",
       "    <tr>\n",
       "      <th>Norte</th>\n",
       "      <td>89</td>\n",
       "      <td>19.78</td>\n",
       "    </tr>\n",
       "    <tr>\n",
       "      <th>Leste</th>\n",
       "      <td>89</td>\n",
       "      <td>19.78</td>\n",
       "    </tr>\n",
       "    <tr>\n",
       "      <th>Oeste</th>\n",
       "      <td>84</td>\n",
       "      <td>18.67</td>\n",
       "    </tr>\n",
       "  </tbody>\n",
       "</table>\n",
       "</div>"
      ],
      "text/plain": [
       "                   Frequência Absoluta  Frequência Relativa\n",
       "Região da Comarca                                          \n",
       "Centro                              95                21.11\n",
       "Sul                                 93                20.67\n",
       "Norte                               89                19.78\n",
       "Leste                               89                19.78\n",
       "Oeste                               84                18.67"
      ]
     },
     "execution_count": 12,
     "metadata": {},
     "output_type": "execute_result"
    }
   ],
   "source": [
    "regiao_fa = df['Região da Comarca'].value_counts()\n",
    "regiao_fr = (df['Região da Comarca'].value_counts(normalize=True)*100).round(2)\n",
    "regiao_frequencia = pd.DataFrame({'Frequência Absoluta': regiao_fa,\n",
    "                      'Frequência Relativa': regiao_fr})\n",
    "regiao_frequencia"
   ]
  },
  {
   "cell_type": "markdown",
   "metadata": {},
   "source": [
    "## Tipo de Estratégia\n",
    "\n",
    "A base de estratégia também está bem distribuida"
   ]
  },
  {
   "cell_type": "code",
   "execution_count": 14,
   "metadata": {},
   "outputs": [
    {
     "data": {
      "text/html": [
       "<div>\n",
       "<style scoped>\n",
       "    .dataframe tbody tr th:only-of-type {\n",
       "        vertical-align: middle;\n",
       "    }\n",
       "\n",
       "    .dataframe tbody tr th {\n",
       "        vertical-align: top;\n",
       "    }\n",
       "\n",
       "    .dataframe thead th {\n",
       "        text-align: right;\n",
       "    }\n",
       "</style>\n",
       "<table border=\"1\" class=\"dataframe\">\n",
       "  <thead>\n",
       "    <tr style=\"text-align: right;\">\n",
       "      <th></th>\n",
       "      <th>Frequência Absoluta</th>\n",
       "      <th>Frequencia Relativa</th>\n",
       "    </tr>\n",
       "    <tr>\n",
       "      <th>Tipo de Estratégia</th>\n",
       "      <th></th>\n",
       "      <th></th>\n",
       "    </tr>\n",
       "  </thead>\n",
       "  <tbody>\n",
       "    <tr>\n",
       "      <th>Estrategia C</th>\n",
       "      <td>158</td>\n",
       "      <td>35.11</td>\n",
       "    </tr>\n",
       "    <tr>\n",
       "      <th>Estrategia A</th>\n",
       "      <td>157</td>\n",
       "      <td>34.89</td>\n",
       "    </tr>\n",
       "    <tr>\n",
       "      <th>Estrategia B</th>\n",
       "      <td>135</td>\n",
       "      <td>30.00</td>\n",
       "    </tr>\n",
       "  </tbody>\n",
       "</table>\n",
       "</div>"
      ],
      "text/plain": [
       "                    Frequência Absoluta  Frequencia Relativa\n",
       "Tipo de Estratégia                                          \n",
       "Estrategia C                        158                35.11\n",
       "Estrategia A                        157                34.89\n",
       "Estrategia B                        135                30.00"
      ]
     },
     "execution_count": 14,
     "metadata": {},
     "output_type": "execute_result"
    }
   ],
   "source": [
    "estrategia_fa = df['Tipo de Estratégia'].value_counts()\n",
    "estrategia_fr = (df['Tipo de Estratégia'].value_counts(normalize=True)*100).round(2)\n",
    "estrategia_frequencia = pd.DataFrame({'Frequência Absoluta': estrategia_fa,\n",
    "                                      'Frequencia Relativa': estrategia_fr})\n",
    "estrategia_frequencia"
   ]
  },
  {
   "cell_type": "code",
   "execution_count": 30,
   "metadata": {},
   "outputs": [
    {
     "data": {
      "text/html": [
       "<div>\n",
       "<style scoped>\n",
       "    .dataframe tbody tr th:only-of-type {\n",
       "        vertical-align: middle;\n",
       "    }\n",
       "\n",
       "    .dataframe tbody tr th {\n",
       "        vertical-align: top;\n",
       "    }\n",
       "\n",
       "    .dataframe thead th {\n",
       "        text-align: right;\n",
       "    }\n",
       "</style>\n",
       "<table border=\"1\" class=\"dataframe\">\n",
       "  <thead>\n",
       "    <tr style=\"text-align: right;\">\n",
       "      <th></th>\n",
       "      <th>Taxa Contratada</th>\n",
       "      <th>Valor Indenização</th>\n",
       "    </tr>\n",
       "  </thead>\n",
       "  <tbody>\n",
       "    <tr>\n",
       "      <th>count</th>\n",
       "      <td>450.00000</td>\n",
       "      <td>250.000000</td>\n",
       "    </tr>\n",
       "    <tr>\n",
       "      <th>mean</th>\n",
       "      <td>2.99600</td>\n",
       "      <td>3050.234746</td>\n",
       "    </tr>\n",
       "    <tr>\n",
       "      <th>std</th>\n",
       "      <td>0.79013</td>\n",
       "      <td>491.693697</td>\n",
       "    </tr>\n",
       "    <tr>\n",
       "      <th>min</th>\n",
       "      <td>0.30000</td>\n",
       "      <td>1582.773279</td>\n",
       "    </tr>\n",
       "    <tr>\n",
       "      <th>25%</th>\n",
       "      <td>2.50000</td>\n",
       "      <td>2713.353474</td>\n",
       "    </tr>\n",
       "    <tr>\n",
       "      <th>50%</th>\n",
       "      <td>3.00000</td>\n",
       "      <td>3066.233052</td>\n",
       "    </tr>\n",
       "    <tr>\n",
       "      <th>75%</th>\n",
       "      <td>3.50000</td>\n",
       "      <td>3372.296281</td>\n",
       "    </tr>\n",
       "    <tr>\n",
       "      <th>max</th>\n",
       "      <td>5.30000</td>\n",
       "      <td>4379.838417</td>\n",
       "    </tr>\n",
       "  </tbody>\n",
       "</table>\n",
       "</div>"
      ],
      "text/plain": [
       "       Taxa Contratada  Valor Indenização\n",
       "count        450.00000         250.000000\n",
       "mean           2.99600        3050.234746\n",
       "std            0.79013         491.693697\n",
       "min            0.30000        1582.773279\n",
       "25%            2.50000        2713.353474\n",
       "50%            3.00000        3066.233052\n",
       "75%            3.50000        3372.296281\n",
       "max            5.30000        4379.838417"
      ]
     },
     "execution_count": 30,
     "metadata": {},
     "output_type": "execute_result"
    }
   ],
   "source": [
    "resumo_taxa_contratada = df[['Taxa Contratada']].describe()\n",
    "resumo_valor_indenizado = df[df['Valor Indenização'] != 0.0]['Valor Indenização'].describe()\n",
    "\n",
    "resumo_geral = pd.concat([resumo_taxa_contratada, resumo_valor_indenizado], axis=1)\n",
    "resumo_geral\n"
   ]
  },
  {
   "cell_type": "markdown",
   "metadata": {},
   "source": [
    "### Taxa Contratada\n",
    "- A média da Taxa Contratada é de 2.9%, dispersão moderada com desvio padrão de 0.79%;\n",
    "\n",
    "- A Taxa mínima contratada é de 0.3%, enquanto a máxima é de 5.3%. Indicando uma Amplitude alta de 2.3%;\n",
    "\n",
    "- Sendo que metade dessas taxas estão abaixo de 3.0% e a outra metade acima;\n",
    "\n",
    "### Valor Indenização\n",
    "- A média do Valor de Indenização é de `R$ 1694,57`, dispersão significativa com desvio padrão de `R$ 1560,91`;\n",
    "\n",
    "- O valor máximo de indenização é de `R$ 4379,83` enquanto o valor mínimo é de `R$ 1582,77`;\n",
    "\n",
    "- Metas dessas indenizações tem valor abaixo de `R$ 3066,23` e a outra metade acima disso."
   ]
  },
  {
   "cell_type": "code",
   "execution_count": null,
   "metadata": {},
   "outputs": [],
   "source": []
  },
  {
   "cell_type": "code",
   "execution_count": 46,
   "metadata": {},
   "outputs": [
    {
     "name": "stdout",
     "output_type": "stream",
     "text": [
      "Limite Superior:  3111.48\n",
      "Limite Inferior:  2988.99\n",
      "Margem de Erro:  122.5\n"
     ]
    }
   ],
   "source": [
    "df1 = df.copy()\n",
    "df1 = df1[df1['Valor Indenização'] != 0.0]\n",
    "\n",
    "# confiança\n",
    "confianca = 0.95\n",
    "\n",
    "# tamanho da amostra\n",
    "n = len(df1['Valor Indenização'])\n",
    "\n",
    "# media amostral\n",
    "media_amostral = df1['Valor Indenização'].mean()\n",
    "\n",
    "# desvio padrão\n",
    "desvio_padrao = df1['Valor Indenização'].std()\n",
    "\n",
    "# z da distribuição t-student\n",
    "z = t.ppf((1+confianca) / 2, df=n-1)\n",
    "\n",
    "# segunda parte da formula\n",
    "segunda_parte = desvio_padrao / np.sqrt(n)\n",
    "\n",
    "# intervalo \n",
    "intervalo = z * segunda_parte\n",
    "\n",
    "# limites do intervalo\n",
    "limite_superior = (media_amostral + intervalo).round(2)\n",
    "limite_inferior = (media_amostral - intervalo).round(2)\n",
    "\n",
    "# margem de erro\n",
    "margem_erro = (intervalo * 2).round(2)\n",
    "\n",
    "\n",
    "print('Limite Superior: ', limite_superior)\n",
    "print('Limite Inferior: ', limite_inferior)\n",
    "print('Margem de Erro: ', margem_erro)\n"
   ]
  },
  {
   "cell_type": "code",
   "execution_count": 32,
   "metadata": {},
   "outputs": [
    {
     "data": {
      "text/plain": [
       "450"
      ]
     },
     "execution_count": 32,
     "metadata": {},
     "output_type": "execute_result"
    }
   ],
   "source": [
    "len(df['Valor Indenização'])"
   ]
  },
  {
   "cell_type": "code",
   "execution_count": null,
   "metadata": {},
   "outputs": [],
   "source": []
  },
  {
   "cell_type": "code",
   "execution_count": null,
   "metadata": {},
   "outputs": [],
   "source": []
  },
  {
   "cell_type": "code",
   "execution_count": null,
   "metadata": {},
   "outputs": [],
   "source": []
  }
 ],
 "metadata": {
  "kernelspec": {
   "display_name": "Python 3",
   "language": "python",
   "name": "python3"
  },
  "language_info": {
   "codemirror_mode": {
    "name": "ipython",
    "version": 3
   },
   "file_extension": ".py",
   "mimetype": "text/x-python",
   "name": "python",
   "nbconvert_exporter": "python",
   "pygments_lexer": "ipython3",
   "version": "3.11.2"
  }
 },
 "nbformat": 4,
 "nbformat_minor": 2
}
