{
 "cells": [
  {
   "cell_type": "markdown",
   "metadata": {},
   "source": [
    "# Bibliotecas"
   ]
  },
  {
   "cell_type": "code",
   "execution_count": 1,
   "metadata": {},
   "outputs": [],
   "source": [
    "import pandas as pd\n",
    "import numpy as np\n",
    "import matplotlib.pyplot as plt\n",
    "import locale\n",
    "from scipy.stats import t"
   ]
  },
  {
   "cell_type": "markdown",
   "metadata": {},
   "source": [
    "# Leitura de dados"
   ]
  },
  {
   "cell_type": "code",
   "execution_count": 2,
   "metadata": {},
   "outputs": [
    {
     "data": {
      "text/html": [
       "<div>\n",
       "<style scoped>\n",
       "    .dataframe tbody tr th:only-of-type {\n",
       "        vertical-align: middle;\n",
       "    }\n",
       "\n",
       "    .dataframe tbody tr th {\n",
       "        vertical-align: top;\n",
       "    }\n",
       "\n",
       "    .dataframe thead th {\n",
       "        text-align: right;\n",
       "    }\n",
       "</style>\n",
       "<table border=\"1\" class=\"dataframe\">\n",
       "  <thead>\n",
       "    <tr style=\"text-align: right;\">\n",
       "      <th></th>\n",
       "      <th>Sentença</th>\n",
       "      <th>Data_Julgamento</th>\n",
       "      <th>Região da Comarca</th>\n",
       "      <th>Tipo de Estratégia</th>\n",
       "      <th>Taxa Contratada</th>\n",
       "      <th>Valor Indenização</th>\n",
       "    </tr>\n",
       "  </thead>\n",
       "  <tbody>\n",
       "    <tr>\n",
       "      <th>0</th>\n",
       "      <td>1</td>\n",
       "      <td>2019-07-01</td>\n",
       "      <td>Oeste</td>\n",
       "      <td>Estrategia C</td>\n",
       "      <td>3.1</td>\n",
       "      <td>0.000000</td>\n",
       "    </tr>\n",
       "    <tr>\n",
       "      <th>1</th>\n",
       "      <td>1</td>\n",
       "      <td>2019-07-01</td>\n",
       "      <td>Norte</td>\n",
       "      <td>Estrategia C</td>\n",
       "      <td>2.5</td>\n",
       "      <td>0.000000</td>\n",
       "    </tr>\n",
       "    <tr>\n",
       "      <th>2</th>\n",
       "      <td>0</td>\n",
       "      <td>2019-07-02</td>\n",
       "      <td>Sul</td>\n",
       "      <td>Estrategia A</td>\n",
       "      <td>4.0</td>\n",
       "      <td>2247.437094</td>\n",
       "    </tr>\n",
       "    <tr>\n",
       "      <th>3</th>\n",
       "      <td>1</td>\n",
       "      <td>2019-07-02</td>\n",
       "      <td>Sul</td>\n",
       "      <td>Estrategia B</td>\n",
       "      <td>2.6</td>\n",
       "      <td>0.000000</td>\n",
       "    </tr>\n",
       "    <tr>\n",
       "      <th>4</th>\n",
       "      <td>1</td>\n",
       "      <td>2019-07-03</td>\n",
       "      <td>Oeste</td>\n",
       "      <td>Estrategia B</td>\n",
       "      <td>4.1</td>\n",
       "      <td>0.000000</td>\n",
       "    </tr>\n",
       "  </tbody>\n",
       "</table>\n",
       "</div>"
      ],
      "text/plain": [
       "   Sentença Data_Julgamento Região da Comarca Tipo de Estratégia   \n",
       "0         1      2019-07-01             Oeste       Estrategia C  \\\n",
       "1         1      2019-07-01             Norte       Estrategia C   \n",
       "2         0      2019-07-02               Sul       Estrategia A   \n",
       "3         1      2019-07-02               Sul       Estrategia B   \n",
       "4         1      2019-07-03             Oeste       Estrategia B   \n",
       "\n",
       "   Taxa Contratada  Valor Indenização  \n",
       "0              3.1           0.000000  \n",
       "1              2.5           0.000000  \n",
       "2              4.0        2247.437094  \n",
       "3              2.6           0.000000  \n",
       "4              4.1           0.000000  "
      ]
     },
     "execution_count": 2,
     "metadata": {},
     "output_type": "execute_result"
    }
   ],
   "source": [
    "df = pd.read_excel(\"Base_Juridico.xlsx\", sheet_name=1)\n",
    "df.head()"
   ]
  },
  {
   "cell_type": "code",
   "execution_count": 3,
   "metadata": {},
   "outputs": [
    {
     "data": {
      "text/html": [
       "<div>\n",
       "<style scoped>\n",
       "    .dataframe tbody tr th:only-of-type {\n",
       "        vertical-align: middle;\n",
       "    }\n",
       "\n",
       "    .dataframe tbody tr th {\n",
       "        vertical-align: top;\n",
       "    }\n",
       "\n",
       "    .dataframe thead th {\n",
       "        text-align: right;\n",
       "    }\n",
       "</style>\n",
       "<table border=\"1\" class=\"dataframe\">\n",
       "  <thead>\n",
       "    <tr style=\"text-align: right;\">\n",
       "      <th></th>\n",
       "      <th>Sentença</th>\n",
       "      <th>Data_Julgamento</th>\n",
       "      <th>Região da Comarca</th>\n",
       "      <th>Tipo de Estratégia</th>\n",
       "      <th>Taxa Contratada</th>\n",
       "      <th>Valor Indenização</th>\n",
       "      <th>Tipo de Processo</th>\n",
       "      <th>Sentença Final</th>\n",
       "    </tr>\n",
       "  </thead>\n",
       "  <tbody>\n",
       "    <tr>\n",
       "      <th>0</th>\n",
       "      <td>1</td>\n",
       "      <td>2019-07-01</td>\n",
       "      <td>Oeste</td>\n",
       "      <td>Estrategia C</td>\n",
       "      <td>3.1</td>\n",
       "      <td>0.000000</td>\n",
       "      <td>Danos Ambientais</td>\n",
       "      <td>Ganhou</td>\n",
       "    </tr>\n",
       "    <tr>\n",
       "      <th>1</th>\n",
       "      <td>1</td>\n",
       "      <td>2019-07-01</td>\n",
       "      <td>Norte</td>\n",
       "      <td>Estrategia C</td>\n",
       "      <td>2.5</td>\n",
       "      <td>0.000000</td>\n",
       "      <td>Violação de Propriedade Intelectual</td>\n",
       "      <td>Ganhou</td>\n",
       "    </tr>\n",
       "    <tr>\n",
       "      <th>2</th>\n",
       "      <td>0</td>\n",
       "      <td>2019-07-02</td>\n",
       "      <td>Sul</td>\n",
       "      <td>Estrategia A</td>\n",
       "      <td>4.0</td>\n",
       "      <td>2247.437094</td>\n",
       "      <td>Quebra de Contrato</td>\n",
       "      <td>Perdeu</td>\n",
       "    </tr>\n",
       "    <tr>\n",
       "      <th>3</th>\n",
       "      <td>1</td>\n",
       "      <td>2019-07-02</td>\n",
       "      <td>Sul</td>\n",
       "      <td>Estrategia B</td>\n",
       "      <td>2.6</td>\n",
       "      <td>0.000000</td>\n",
       "      <td>Violação de Propriedade Intelectual</td>\n",
       "      <td>Ganhou</td>\n",
       "    </tr>\n",
       "    <tr>\n",
       "      <th>4</th>\n",
       "      <td>1</td>\n",
       "      <td>2019-07-03</td>\n",
       "      <td>Oeste</td>\n",
       "      <td>Estrategia B</td>\n",
       "      <td>4.1</td>\n",
       "      <td>0.000000</td>\n",
       "      <td>Violação de Propriedade Intelectual</td>\n",
       "      <td>Ganhou</td>\n",
       "    </tr>\n",
       "  </tbody>\n",
       "</table>\n",
       "</div>"
      ],
      "text/plain": [
       "   Sentença Data_Julgamento Região da Comarca Tipo de Estratégia   \n",
       "0         1      2019-07-01             Oeste       Estrategia C  \\\n",
       "1         1      2019-07-01             Norte       Estrategia C   \n",
       "2         0      2019-07-02               Sul       Estrategia A   \n",
       "3         1      2019-07-02               Sul       Estrategia B   \n",
       "4         1      2019-07-03             Oeste       Estrategia B   \n",
       "\n",
       "   Taxa Contratada  Valor Indenização                     Tipo de Processo   \n",
       "0              3.1           0.000000                     Danos Ambientais  \\\n",
       "1              2.5           0.000000  Violação de Propriedade Intelectual   \n",
       "2              4.0        2247.437094                   Quebra de Contrato   \n",
       "3              2.6           0.000000  Violação de Propriedade Intelectual   \n",
       "4              4.1           0.000000  Violação de Propriedade Intelectual   \n",
       "\n",
       "  Sentença Final  \n",
       "0         Ganhou  \n",
       "1         Ganhou  \n",
       "2         Perdeu  \n",
       "3         Ganhou  \n",
       "4         Ganhou  "
      ]
     },
     "execution_count": 3,
     "metadata": {},
     "output_type": "execute_result"
    }
   ],
   "source": [
    "# Tipos de processos\n",
    "tipos_de_processos = [\n",
    "    'Trabalhistas',\n",
    "    'Danos ao Consumidor',\n",
    "    'Quebra de Contrato',\n",
    "    'Danos Ambientais',\n",
    "    'Violação de Propriedade Intelectual',\n",
    "    'Responsabilidade Civil'\n",
    "]\n",
    "\n",
    "# Adicionando uma nova coluna com tipos de processos aleatórios\n",
    "np.random.seed(42)\n",
    "df['Tipo de Processo'] = np.random.choice(tipos_de_processos, size=len(df))\n",
    "\n",
    "df['Sentença Final'] = np.where(df['Sentença'] == 1, 'Ganhou', 'Perdeu')\n",
    "\n",
    "df.head()\n",
    "\n",
    "#df.to_csv('dados_juridicos_novo.csv', index=False)"
   ]
  },
  {
   "cell_type": "code",
   "execution_count": 4,
   "metadata": {},
   "outputs": [
    {
     "name": "stdout",
     "output_type": "stream",
     "text": [
      "Número de Linhas:  450\n",
      "Número de Colunas:  8\n"
     ]
    }
   ],
   "source": [
    "print('Número de Linhas: ', df.shape[0])\n",
    "print('Número de Colunas: ', df.shape[1])"
   ]
  },
  {
   "cell_type": "code",
   "execution_count": 5,
   "metadata": {},
   "outputs": [
    {
     "data": {
      "text/plain": [
       "Sentença                       int64\n",
       "Data_Julgamento       datetime64[ns]\n",
       "Região da Comarca             object\n",
       "Tipo de Estratégia            object\n",
       "Taxa Contratada              float64\n",
       "Valor Indenização            float64\n",
       "Tipo de Processo              object\n",
       "Sentença Final                object\n",
       "dtype: object"
      ]
     },
     "execution_count": 5,
     "metadata": {},
     "output_type": "execute_result"
    }
   ],
   "source": [
    "df.dtypes"
   ]
  },
  {
   "cell_type": "markdown",
   "metadata": {},
   "source": [
    "# Análise Exploratória"
   ]
  },
  {
   "cell_type": "markdown",
   "metadata": {},
   "source": [
    "## Sentença"
   ]
  },
  {
   "cell_type": "code",
   "execution_count": 6,
   "metadata": {},
   "outputs": [
    {
     "data": {
      "text/html": [
       "<div>\n",
       "<style scoped>\n",
       "    .dataframe tbody tr th:only-of-type {\n",
       "        vertical-align: middle;\n",
       "    }\n",
       "\n",
       "    .dataframe tbody tr th {\n",
       "        vertical-align: top;\n",
       "    }\n",
       "\n",
       "    .dataframe thead th {\n",
       "        text-align: right;\n",
       "    }\n",
       "</style>\n",
       "<table border=\"1\" class=\"dataframe\">\n",
       "  <thead>\n",
       "    <tr style=\"text-align: right;\">\n",
       "      <th></th>\n",
       "      <th>Frequência Absoluta</th>\n",
       "      <th>Frequência Relativa</th>\n",
       "    </tr>\n",
       "    <tr>\n",
       "      <th>Sentença</th>\n",
       "      <th></th>\n",
       "      <th></th>\n",
       "    </tr>\n",
       "  </thead>\n",
       "  <tbody>\n",
       "    <tr>\n",
       "      <th>0</th>\n",
       "      <td>250</td>\n",
       "      <td>55.56</td>\n",
       "    </tr>\n",
       "    <tr>\n",
       "      <th>1</th>\n",
       "      <td>200</td>\n",
       "      <td>44.44</td>\n",
       "    </tr>\n",
       "  </tbody>\n",
       "</table>\n",
       "</div>"
      ],
      "text/plain": [
       "          Frequência Absoluta  Frequência Relativa\n",
       "Sentença                                          \n",
       "0                         250                55.56\n",
       "1                         200                44.44"
      ]
     },
     "execution_count": 6,
     "metadata": {},
     "output_type": "execute_result"
    }
   ],
   "source": [
    "sentenca_fa = df['Sentença'].value_counts()\n",
    "sentenca_fr = (df['Sentença'].value_counts(normalize = True)*100).round(2)\n",
    "sentenca_frequencia = pd.DataFrame({'Frequência Absoluta': sentenca_fa,\n",
    "                                    'Frequência Relativa': sentenca_fr})\n",
    "sentenca_frequencia"
   ]
  },
  {
   "cell_type": "code",
   "execution_count": null,
   "metadata": {},
   "outputs": [],
   "source": []
  },
  {
   "cell_type": "code",
   "execution_count": 7,
   "metadata": {},
   "outputs": [
    {
     "data": {
      "image/png": "[encoded data removed]",
      "text/plain": [
       "<Figure size 800x600 with 1 Axes>"
      ]
     },
     "metadata": {},
     "output_type": "display_data"
    }
   ],
   "source": [
    "# Configurando o locale para o Brasil\n",
    "locale.setlocale(locale.LC_ALL, 'pt_BR.UTF-8')\n",
    "\n",
    "\n",
    "\n",
    "# Contagem das ocorrências de cada valor único\n",
    "sentenca_counts = (df['Sentença Final'].value_counts(normalize=True) * 100).round(1)\n",
    "perdeu_count = sentenca_counts['Perdeu']\n",
    "ganhou_count = sentenca_counts['Ganhou']\n",
    "total_indenizacao = df['Valor Indenização'].sum()\n",
    "\n",
    "# Plotagem do gráfico de donut\n",
    "plt.figure(figsize=(8, 6))\n",
    "plt.pie(sentenca_counts, labels=None, autopct=None, startangle=90, colors=['#990000', '#848484'], wedgeprops=dict(width=0.2, edgecolor='w'))\n",
    "\n",
    "# Adiciona a porcentagem e texto para \"Perdeu\"\n",
    "plt.text(0, 0, f'Total de indenização\\n', fontsize=16, color='#848484', ha='center')\n",
    "plt.text(0, -0.03, f'{locale.currency(total_indenizacao, grouping=True)}', fontsize=18, color='#990000', ha='center')\n",
    "plt.text(-1, -1, f'{perdeu_count}%\\n', fontsize=18, color='#990000', ha='center')\n",
    "plt.text(-1, -1, f'Perdeu', fontsize=14, ha='center')\n",
    "plt.text(1, -1, f'{ganhou_count}%\\n', fontsize=18, color='#848484', ha='center')\n",
    "plt.text(1, -1, f'Ganhou', fontsize=14, ha='center')\n",
    "\n",
    "#plt.title('Distribuição de Sentença Final')\n",
    "plt.axis('equal')  # Garante que o gráfico seja desenhado como um círculo.\n",
    "\n",
    "\n",
    "# Salvando o gráfico como uma imagem\n",
    "plt.savefig('grafico_distribuicao_sentenca_final.png', dpi=300)\n",
    "plt.show()\n",
    "\n"
   ]
  },
  {
   "cell_type": "code",
   "execution_count": 8,
   "metadata": {},
   "outputs": [
    {
     "data": {
      "image/png": "[encoded data removed]",
      "text/plain": [
       "<Figure size 800x600 with 1 Axes>"
      ]
     },
     "metadata": {},
     "output_type": "display_data"
    }
   ],
   "source": [
    "histograma_indenizacao = df[df['Valor Indenização'] != 0.0]\n",
    "\n",
    "# Plotagem do histograma\n",
    "plt.figure(figsize=(8, 6))\n",
    "plt.hist(histograma_indenizacao['Valor Indenização'], color='#0077b6', edgecolor='black')\n",
    "plt.title('Histograma de Valor de Indenização')\n",
    "plt.xlabel('Valor de Indenização')\n",
    "plt.ylabel('Frequência')\n",
    "plt.grid(False)  # Removendo o grid\n",
    "plt.box(False)   # Removendo o box\n",
    "plt.savefig('histograma_indenização.png', dpi=300)\n",
    "plt.show()\n",
    "\n"
   ]
  },
  {
   "cell_type": "code",
   "execution_count": 9,
   "metadata": {},
   "outputs": [
    {
     "data": {
      "text/html": [
       "<div>\n",
       "<style scoped>\n",
       "    .dataframe tbody tr th:only-of-type {\n",
       "        vertical-align: middle;\n",
       "    }\n",
       "\n",
       "    .dataframe tbody tr th {\n",
       "        vertical-align: top;\n",
       "    }\n",
       "\n",
       "    .dataframe thead th {\n",
       "        text-align: right;\n",
       "    }\n",
       "</style>\n",
       "<table border=\"1\" class=\"dataframe\">\n",
       "  <thead>\n",
       "    <tr style=\"text-align: right;\">\n",
       "      <th></th>\n",
       "      <th>Frequência Absoluta</th>\n",
       "      <th>Frequência Relativa</th>\n",
       "      <th>Valor de Indenização</th>\n",
       "      <th>Risco</th>\n",
       "    </tr>\n",
       "    <tr>\n",
       "      <th>Tipo de Processo</th>\n",
       "      <th></th>\n",
       "      <th></th>\n",
       "      <th></th>\n",
       "      <th></th>\n",
       "    </tr>\n",
       "  </thead>\n",
       "  <tbody>\n",
       "    <tr>\n",
       "      <th>Danos Ambientais</th>\n",
       "      <td>90</td>\n",
       "      <td>20.00</td>\n",
       "      <td>R$ 158147,28</td>\n",
       "      <td>Alto</td>\n",
       "    </tr>\n",
       "    <tr>\n",
       "      <th>Danos ao Consumidor</th>\n",
       "      <td>66</td>\n",
       "      <td>14.67</td>\n",
       "      <td>R$ 99631,33</td>\n",
       "      <td>Baixo</td>\n",
       "    </tr>\n",
       "    <tr>\n",
       "      <th>Quebra de Contrato</th>\n",
       "      <td>73</td>\n",
       "      <td>16.22</td>\n",
       "      <td>R$ 148631,23</td>\n",
       "      <td>Moderado</td>\n",
       "    </tr>\n",
       "    <tr>\n",
       "      <th>Responsabilidade Civil</th>\n",
       "      <td>77</td>\n",
       "      <td>17.11</td>\n",
       "      <td>R$ 128908,60</td>\n",
       "      <td>Moderado</td>\n",
       "    </tr>\n",
       "    <tr>\n",
       "      <th>Trabalhistas</th>\n",
       "      <td>82</td>\n",
       "      <td>18.22</td>\n",
       "      <td>R$ 148333,81</td>\n",
       "      <td>Moderado</td>\n",
       "    </tr>\n",
       "    <tr>\n",
       "      <th>Violação de Propriedade Intelectual</th>\n",
       "      <td>62</td>\n",
       "      <td>13.78</td>\n",
       "      <td>R$ 78906,44</td>\n",
       "      <td>Baixo</td>\n",
       "    </tr>\n",
       "  </tbody>\n",
       "</table>\n",
       "</div>"
      ],
      "text/plain": [
       "                                     Frequência Absoluta  Frequência Relativa   \n",
       "Tipo de Processo                                                                \n",
       "Danos Ambientais                                      90                20.00  \\\n",
       "Danos ao Consumidor                                   66                14.67   \n",
       "Quebra de Contrato                                    73                16.22   \n",
       "Responsabilidade Civil                                77                17.11   \n",
       "Trabalhistas                                          82                18.22   \n",
       "Violação de Propriedade Intelectual                   62                13.78   \n",
       "\n",
       "                                    Valor de Indenização     Risco  \n",
       "Tipo de Processo                                                    \n",
       "Danos Ambientais                            R$ 158147,28      Alto  \n",
       "Danos ao Consumidor                          R$ 99631,33     Baixo  \n",
       "Quebra de Contrato                          R$ 148631,23  Moderado  \n",
       "Responsabilidade Civil                      R$ 128908,60  Moderado  \n",
       "Trabalhistas                                R$ 148333,81  Moderado  \n",
       "Violação de Propriedade Intelectual          R$ 78906,44     Baixo  "
      ]
     },
     "execution_count": 9,
     "metadata": {},
     "output_type": "execute_result"
    }
   ],
   "source": [
    "# Definir intervalos de risco\n",
    "baixo_limite = 100000\n",
    "moderado_limite = 150000\n",
    "\n",
    "# Função para classificar o risco com base no valor da indenização\n",
    "def classificar_risco(indenizacao):\n",
    "    if indenizacao <= baixo_limite:\n",
    "        return 'Baixo'\n",
    "    elif indenizacao <= moderado_limite:\n",
    "        return 'Moderado'\n",
    "    else:\n",
    "        return 'Alto'\n",
    "\n",
    "\n",
    "\n",
    "processo_fa = df['Tipo de Processo'].value_counts()\n",
    "processo_fr = (df['Tipo de Processo'].value_counts(normalize=True)*100).round(2)\n",
    "processo_indenizacao = df.groupby('Tipo de Processo')['Valor Indenização'].sum()\n",
    "processo_frequencia = pd.DataFrame({'Frequência Absoluta': processo_fa,\n",
    "                      'Frequência Relativa': processo_fr,\n",
    "                      'Valor de Indenização': processo_indenizacao})\n",
    "processo_frequencia['Risco'] = processo_frequencia['Valor de Indenização'].apply(classificar_risco)\n",
    "processo_frequencia['Valor de Indenização'] = processo_frequencia['Valor de Indenização'].map(locale.currency)\n",
    "processo_frequencia\n",
    "#processo_indenizacao"
   ]
  },
  {
   "cell_type": "code",
   "execution_count": 10,
   "metadata": {},
   "outputs": [
    {
     "name": "stdout",
     "output_type": "stream",
     "text": [
      "     Sentença Data_Julgamento Região da Comarca Tipo de Estratégia   \n",
      "0           1      2019-07-01             Oeste       Estrategia C  \\\n",
      "1           1      2019-07-01             Norte       Estrategia C   \n",
      "2           0      2019-07-02               Sul       Estrategia A   \n",
      "3           1      2019-07-02               Sul       Estrategia B   \n",
      "4           1      2019-07-03             Oeste       Estrategia B   \n",
      "..        ...             ...               ...                ...   \n",
      "445         1      2019-12-29             Leste       Estrategia C   \n",
      "446         0      2019-12-30            Centro       Estrategia C   \n",
      "447         0      2019-12-30             Norte       Estrategia B   \n",
      "448         0      2019-12-31             Leste       Estrategia A   \n",
      "449         1      2019-12-31            Centro       Estrategia B   \n",
      "\n",
      "     Taxa Contratada  Valor Indenização                     Tipo de Processo   \n",
      "0                3.1           0.000000                     Danos Ambientais  \\\n",
      "1                2.5           0.000000  Violação de Propriedade Intelectual   \n",
      "2                4.0        2247.437094                   Quebra de Contrato   \n",
      "3                2.6           0.000000  Violação de Propriedade Intelectual   \n",
      "4                4.1           0.000000  Violação de Propriedade Intelectual   \n",
      "..               ...                ...                                  ...   \n",
      "445              3.8           0.000000  Violação de Propriedade Intelectual   \n",
      "446              3.3        3598.858515                  Danos ao Consumidor   \n",
      "447              3.0        2468.747753                     Danos Ambientais   \n",
      "448              3.1        2943.794058                  Danos ao Consumidor   \n",
      "449              2.3           0.000000               Responsabilidade Civil   \n",
      "\n",
      "    Sentença Final  \n",
      "0           Ganhou  \n",
      "1           Ganhou  \n",
      "2           Perdeu  \n",
      "3           Ganhou  \n",
      "4           Ganhou  \n",
      "..             ...  \n",
      "445         Ganhou  \n",
      "446         Perdeu  \n",
      "447         Perdeu  \n",
      "448         Perdeu  \n",
      "449         Ganhou  \n",
      "\n",
      "[450 rows x 8 columns]\n"
     ]
    }
   ],
   "source": [
    "import pandas as pd\n",
    "\n",
    "# Dados da tabela\n",
    "data = {\n",
    "    'Tipo de Processo': ['Danos Ambientais', 'Danos ao Consumidor', 'Quebra de Contrato', 'Responsabilidade Civil', 'Trabalhistas', 'Violação de Propriedade Intelectual'],\n",
    "    'Total (%)': [71, 97, 64, 94, 73, 51],\n",
    "    'Indenização Paga': [106985.8, 165810.4, 121160.7, 156983.0, 125541.6, 86077.1]\n",
    "}\n",
    "\n",
    "# Criar DataFrame\n",
    "data = pd.DataFrame(data)\n",
    "\n",
    "# Definir intervalos de risco\n",
    "baixo_limite = 100000\n",
    "moderado_limite = 150000\n",
    "\n",
    "# Função para classificar o risco com base no valor da indenização\n",
    "def classificar_risco(indenizacao):\n",
    "    if indenizacao <= baixo_limite:\n",
    "        return 'Baixo'\n",
    "    elif indenizacao <= moderado_limite:\n",
    "        return 'Moderado'\n",
    "    else:\n",
    "        return 'Alto'\n",
    "\n",
    "# Criar a coluna de risco\n",
    "data['Risco'] = data['Indenização Paga'].apply(classificar_risco)\n",
    "\n",
    "print(df)\n"
   ]
  },
  {
   "cell_type": "markdown",
   "metadata": {},
   "source": [
    "## Região Comarca\n",
    "\n",
    "Temos uma distribuição bem simetrica de dados entre as regiões"
   ]
  },
  {
   "cell_type": "code",
   "execution_count": 11,
   "metadata": {},
   "outputs": [
    {
     "data": {
      "text/html": [
       "<div>\n",
       "<style scoped>\n",
       "    .dataframe tbody tr th:only-of-type {\n",
       "        vertical-align: middle;\n",
       "    }\n",
       "\n",
       "    .dataframe tbody tr th {\n",
       "        vertical-align: top;\n",
       "    }\n",
       "\n",
       "    .dataframe thead th {\n",
       "        text-align: right;\n",
       "    }\n",
       "</style>\n",
       "<table border=\"1\" class=\"dataframe\">\n",
       "  <thead>\n",
       "    <tr style=\"text-align: right;\">\n",
       "      <th></th>\n",
       "      <th>Frequência Absoluta</th>\n",
       "      <th>Frequência Relativa</th>\n",
       "      <th>Valor de Indenização</th>\n",
       "      <th>Risco</th>\n",
       "    </tr>\n",
       "    <tr>\n",
       "      <th>Região da Comarca</th>\n",
       "      <th></th>\n",
       "      <th></th>\n",
       "      <th></th>\n",
       "      <th></th>\n",
       "    </tr>\n",
       "  </thead>\n",
       "  <tbody>\n",
       "    <tr>\n",
       "      <th>Centro</th>\n",
       "      <td>95</td>\n",
       "      <td>21.11</td>\n",
       "      <td>R$ 178652,31</td>\n",
       "      <td>Alto</td>\n",
       "    </tr>\n",
       "    <tr>\n",
       "      <th>Leste</th>\n",
       "      <td>89</td>\n",
       "      <td>19.78</td>\n",
       "      <td>R$ 143819,55</td>\n",
       "      <td>Moderado</td>\n",
       "    </tr>\n",
       "    <tr>\n",
       "      <th>Norte</th>\n",
       "      <td>89</td>\n",
       "      <td>19.78</td>\n",
       "      <td>R$ 156952,60</td>\n",
       "      <td>Alto</td>\n",
       "    </tr>\n",
       "    <tr>\n",
       "      <th>Oeste</th>\n",
       "      <td>84</td>\n",
       "      <td>18.67</td>\n",
       "      <td>R$ 141400,28</td>\n",
       "      <td>Moderado</td>\n",
       "    </tr>\n",
       "    <tr>\n",
       "      <th>Sul</th>\n",
       "      <td>93</td>\n",
       "      <td>20.67</td>\n",
       "      <td>R$ 141733,94</td>\n",
       "      <td>Moderado</td>\n",
       "    </tr>\n",
       "  </tbody>\n",
       "</table>\n",
       "</div>"
      ],
      "text/plain": [
       "                   Frequência Absoluta  Frequência Relativa   \n",
       "Região da Comarca                                             \n",
       "Centro                              95                21.11  \\\n",
       "Leste                               89                19.78   \n",
       "Norte                               89                19.78   \n",
       "Oeste                               84                18.67   \n",
       "Sul                                 93                20.67   \n",
       "\n",
       "                  Valor de Indenização     Risco  \n",
       "Região da Comarca                                 \n",
       "Centro                    R$ 178652,31      Alto  \n",
       "Leste                     R$ 143819,55  Moderado  \n",
       "Norte                     R$ 156952,60      Alto  \n",
       "Oeste                     R$ 141400,28  Moderado  \n",
       "Sul                       R$ 141733,94  Moderado  "
      ]
     },
     "execution_count": 11,
     "metadata": {},
     "output_type": "execute_result"
    }
   ],
   "source": [
    "regiao_fa = df['Região da Comarca'].value_counts()\n",
    "regiao_fr = (df['Região da Comarca'].value_counts(normalize=True)*100).round(2)\n",
    "regiao_indenizacao = df.groupby('Região da Comarca')['Valor Indenização'].sum()\n",
    "regiao_frequencia = pd.DataFrame({'Frequência Absoluta': regiao_fa,\n",
    "                      'Frequência Relativa': regiao_fr,\n",
    "                      'Valor de Indenização': regiao_indenizacao})\n",
    "regiao_frequencia['Risco'] = regiao_frequencia['Valor de Indenização'].apply(classificar_risco)\n",
    "regiao_frequencia['Valor de Indenização'] = regiao_frequencia['Valor de Indenização'].map(locale.currency)\n",
    "regiao_frequencia"
   ]
  },
  {
   "cell_type": "markdown",
   "metadata": {},
   "source": [
    "## Tipo de Estratégia\n",
    "\n",
    "A base de estratégia também está bem distribuida"
   ]
  },
  {
   "cell_type": "code",
   "execution_count": 12,
   "metadata": {},
   "outputs": [
    {
     "data": {
      "text/html": [
       "<div>\n",
       "<style scoped>\n",
       "    .dataframe tbody tr th:only-of-type {\n",
       "        vertical-align: middle;\n",
       "    }\n",
       "\n",
       "    .dataframe tbody tr th {\n",
       "        vertical-align: top;\n",
       "    }\n",
       "\n",
       "    .dataframe thead th {\n",
       "        text-align: right;\n",
       "    }\n",
       "</style>\n",
       "<table border=\"1\" class=\"dataframe\">\n",
       "  <thead>\n",
       "    <tr style=\"text-align: right;\">\n",
       "      <th></th>\n",
       "      <th>Frequência Absoluta</th>\n",
       "      <th>Frequencia Relativa</th>\n",
       "    </tr>\n",
       "    <tr>\n",
       "      <th>Tipo de Estratégia</th>\n",
       "      <th></th>\n",
       "      <th></th>\n",
       "    </tr>\n",
       "  </thead>\n",
       "  <tbody>\n",
       "    <tr>\n",
       "      <th>Estrategia C</th>\n",
       "      <td>158</td>\n",
       "      <td>35.11</td>\n",
       "    </tr>\n",
       "    <tr>\n",
       "      <th>Estrategia A</th>\n",
       "      <td>157</td>\n",
       "      <td>34.89</td>\n",
       "    </tr>\n",
       "    <tr>\n",
       "      <th>Estrategia B</th>\n",
       "      <td>135</td>\n",
       "      <td>30.00</td>\n",
       "    </tr>\n",
       "  </tbody>\n",
       "</table>\n",
       "</div>"
      ],
      "text/plain": [
       "                    Frequência Absoluta  Frequencia Relativa\n",
       "Tipo de Estratégia                                          \n",
       "Estrategia C                        158                35.11\n",
       "Estrategia A                        157                34.89\n",
       "Estrategia B                        135                30.00"
      ]
     },
     "execution_count": 12,
     "metadata": {},
     "output_type": "execute_result"
    }
   ],
   "source": [
    "estrategia_fa = df['Tipo de Estratégia'].value_counts()\n",
    "estrategia_fr = (df['Tipo de Estratégia'].value_counts(normalize=True)*100).round(2)\n",
    "estrategia_frequencia = pd.DataFrame({'Frequência Absoluta': estrategia_fa,\n",
    "                                      'Frequencia Relativa': estrategia_fr})\n",
    "estrategia_frequencia"
   ]
  },
  {
   "cell_type": "code",
   "execution_count": 13,
   "metadata": {},
   "outputs": [
    {
     "data": {
      "text/html": [
       "<div>\n",
       "<style scoped>\n",
       "    .dataframe tbody tr th:only-of-type {\n",
       "        vertical-align: middle;\n",
       "    }\n",
       "\n",
       "    .dataframe tbody tr th {\n",
       "        vertical-align: top;\n",
       "    }\n",
       "\n",
       "    .dataframe thead th {\n",
       "        text-align: right;\n",
       "    }\n",
       "</style>\n",
       "<table border=\"1\" class=\"dataframe\">\n",
       "  <thead>\n",
       "    <tr style=\"text-align: right;\">\n",
       "      <th></th>\n",
       "      <th>Taxa Contratada</th>\n",
       "      <th>Valor Indenização</th>\n",
       "    </tr>\n",
       "  </thead>\n",
       "  <tbody>\n",
       "    <tr>\n",
       "      <th>count</th>\n",
       "      <td>450.00000</td>\n",
       "      <td>250.000000</td>\n",
       "    </tr>\n",
       "    <tr>\n",
       "      <th>mean</th>\n",
       "      <td>2.99600</td>\n",
       "      <td>3050.234746</td>\n",
       "    </tr>\n",
       "    <tr>\n",
       "      <th>std</th>\n",
       "      <td>0.79013</td>\n",
       "      <td>491.693697</td>\n",
       "    </tr>\n",
       "    <tr>\n",
       "      <th>min</th>\n",
       "      <td>0.30000</td>\n",
       "      <td>1582.773279</td>\n",
       "    </tr>\n",
       "    <tr>\n",
       "      <th>25%</th>\n",
       "      <td>2.50000</td>\n",
       "      <td>2713.353474</td>\n",
       "    </tr>\n",
       "    <tr>\n",
       "      <th>50%</th>\n",
       "      <td>3.00000</td>\n",
       "      <td>3066.233052</td>\n",
       "    </tr>\n",
       "    <tr>\n",
       "      <th>75%</th>\n",
       "      <td>3.50000</td>\n",
       "      <td>3372.296281</td>\n",
       "    </tr>\n",
       "    <tr>\n",
       "      <th>max</th>\n",
       "      <td>5.30000</td>\n",
       "      <td>4379.838417</td>\n",
       "    </tr>\n",
       "  </tbody>\n",
       "</table>\n",
       "</div>"
      ],
      "text/plain": [
       "       Taxa Contratada  Valor Indenização\n",
       "count        450.00000         250.000000\n",
       "mean           2.99600        3050.234746\n",
       "std            0.79013         491.693697\n",
       "min            0.30000        1582.773279\n",
       "25%            2.50000        2713.353474\n",
       "50%            3.00000        3066.233052\n",
       "75%            3.50000        3372.296281\n",
       "max            5.30000        4379.838417"
      ]
     },
     "execution_count": 13,
     "metadata": {},
     "output_type": "execute_result"
    }
   ],
   "source": [
    "resumo_taxa_contratada = df[['Taxa Contratada']].describe()\n",
    "resumo_valor_indenizado = df[df['Sentença'] == 0]['Valor Indenização'].describe()\n",
    "\n",
    "resumo_geral = pd.concat([resumo_taxa_contratada, resumo_valor_indenizado], axis=1)\n",
    "resumo_geral\n"
   ]
  },
  {
   "cell_type": "markdown",
   "metadata": {},
   "source": [
    "### Taxa Contratada\n",
    "- A média da Taxa Contratada é de 2.9%, dispersão moderada com desvio padrão de 0.79%;\n",
    "\n",
    "- A Taxa mínima contratada é de 0.3%, enquanto a máxima é de 5.3%. Indicando uma Amplitude alta de 2.3%;\n",
    "\n",
    "- Sendo que metade dessas taxas estão abaixo de 3.0% e a outra metade acima;\n",
    "\n",
    "### Valor Indenização\n",
    "- A média do Valor de Indenização é de `R$ 3050,523`, dispersão significativa com desvio padrão de `R$ 491,69`;\n",
    "\n",
    "- O valor máximo de indenização é de `R$ 4379,83` enquanto o valor mínimo é de `R$ 1582,77`;\n",
    "\n",
    "- Metas dessas indenizações tem valor abaixo de `R$ 3066,23` e a outra metade acima disso."
   ]
  },
  {
   "cell_type": "code",
   "execution_count": null,
   "metadata": {},
   "outputs": [],
   "source": []
  },
  {
   "cell_type": "code",
   "execution_count": 14,
   "metadata": {},
   "outputs": [
    {
     "name": "stdout",
     "output_type": "stream",
     "text": [
      "Limite Superior:  3111.48\n",
      "Limite Inferior:  2988.99\n",
      "Margem de Erro:  61.24\n"
     ]
    }
   ],
   "source": [
    "df1 = df.copy()\n",
    "df1 = df1[df1['Sentença'] == 0]\n",
    "\n",
    "# confiança\n",
    "confianca = 0.95\n",
    "\n",
    "# tamanho da amostra\n",
    "n = len(df1['Valor Indenização'])\n",
    "\n",
    "# media amostral\n",
    "media_amostral = df1['Valor Indenização'].mean()\n",
    "\n",
    "# desvio padrão\n",
    "desvio_padrao = df1['Valor Indenização'].std()\n",
    "\n",
    "# z da distribuição t-student\n",
    "z = t.ppf((1+confianca) / 2, df=n-1)\n",
    "\n",
    "# segunda parte da formula\n",
    "segunda_parte = desvio_padrao / np.sqrt(n)\n",
    "\n",
    "# intervalo \n",
    "intervalo = z * segunda_parte\n",
    "\n",
    "# limites do intervalo\n",
    "limite_superior = (media_amostral + intervalo).round(2)\n",
    "limite_inferior = (media_amostral - intervalo).round(2)\n",
    "\n",
    "# margem de erro\n",
    "margem_erro = (media_amostral - limite_inferior).round(2)\n",
    "\n",
    "\n",
    "print('Limite Superior: ', limite_superior)\n",
    "print('Limite Inferior: ', limite_inferior)\n",
    "print('Margem de Erro: ', margem_erro)\n"
   ]
  },
  {
   "cell_type": "markdown",
   "metadata": {},
   "source": [
    "Com 95% de confiança estimasse que o valor total indenizado da população está em um intervalo entre `R$ 3111,48` e `R$ 2988,99`, com uma margem de erro de `R$ 61,24`."
   ]
  },
  {
   "cell_type": "markdown",
   "metadata": {},
   "source": [
    "# Estimando a Taxa de Ganho"
   ]
  },
  {
   "cell_type": "markdown",
   "metadata": {},
   "source": [
    "## Por estratégia"
   ]
  },
  {
   "cell_type": "code",
   "execution_count": 15,
   "metadata": {},
   "outputs": [
    {
     "data": {
      "text/html": [
       "<div>\n",
       "<style scoped>\n",
       "    .dataframe tbody tr th:only-of-type {\n",
       "        vertical-align: middle;\n",
       "    }\n",
       "\n",
       "    .dataframe tbody tr th {\n",
       "        vertical-align: top;\n",
       "    }\n",
       "\n",
       "    .dataframe thead th {\n",
       "        text-align: right;\n",
       "    }\n",
       "</style>\n",
       "<table border=\"1\" class=\"dataframe\">\n",
       "  <thead>\n",
       "    <tr style=\"text-align: right;\">\n",
       "      <th></th>\n",
       "      <th>Tipo de Estratégia</th>\n",
       "      <th>Frequência Absoluta</th>\n",
       "      <th>Frequencia Relativa</th>\n",
       "      <th>Taxa de Ganho</th>\n",
       "    </tr>\n",
       "  </thead>\n",
       "  <tbody>\n",
       "    <tr>\n",
       "      <th>0</th>\n",
       "      <td>Estrategia A</td>\n",
       "      <td>157</td>\n",
       "      <td>34.89</td>\n",
       "      <td>40.13</td>\n",
       "    </tr>\n",
       "    <tr>\n",
       "      <th>1</th>\n",
       "      <td>Estrategia B</td>\n",
       "      <td>135</td>\n",
       "      <td>30.00</td>\n",
       "      <td>53.33</td>\n",
       "    </tr>\n",
       "    <tr>\n",
       "      <th>2</th>\n",
       "      <td>Estrategia C</td>\n",
       "      <td>158</td>\n",
       "      <td>35.11</td>\n",
       "      <td>41.14</td>\n",
       "    </tr>\n",
       "  </tbody>\n",
       "</table>\n",
       "</div>"
      ],
      "text/plain": [
       "  Tipo de Estratégia  Frequência Absoluta  Frequencia Relativa  Taxa de Ganho\n",
       "0       Estrategia A                  157                34.89          40.13\n",
       "1       Estrategia B                  135                30.00          53.33\n",
       "2       Estrategia C                  158                35.11          41.14"
      ]
     },
     "execution_count": 15,
     "metadata": {},
     "output_type": "execute_result"
    }
   ],
   "source": [
    "estrategia_fa = df['Tipo de Estratégia'].value_counts()\n",
    "estrategia_fr = (df['Tipo de Estratégia'].value_counts(normalize=True)*100).round(2)\n",
    "taxa_de_ganho = (df.groupby('Tipo de Estratégia')['Sentença'].mean()*100).round(2)\n",
    "\n",
    "estrategia_tx = pd.DataFrame({'Frequência Absoluta': estrategia_fa,\n",
    "                                      'Frequencia Relativa': estrategia_fr,\n",
    "                                      'Taxa de Ganho': taxa_de_ganho}).reset_index()\n",
    "estrategia_tx.sort_values(by='Tipo de Estratégia')"
   ]
  },
  {
   "cell_type": "markdown",
   "metadata": {},
   "source": [
    "Baseado na amostra, a Estatégia B tem mais Taxa de ganho do que as estratégias A e C."
   ]
  },
  {
   "cell_type": "code",
   "execution_count": 16,
   "metadata": {},
   "outputs": [
    {
     "ename": "SyntaxError",
     "evalue": "invalid syntax (429655630.py, line 1)",
     "output_type": "error",
     "traceback": [
      "\u001b[1;36m  Cell \u001b[1;32mIn[16], line 1\u001b[1;36m\u001b[0m\n\u001b[1;33m    (df.groupby('Tipo de Estratégia')['Sentença'].agg('Taxa de Ganho': mean()*100).round(2))\u001b[0m\n\u001b[1;37m                                                                     ^\u001b[0m\n\u001b[1;31mSyntaxError\u001b[0m\u001b[1;31m:\u001b[0m invalid syntax\n"
     ]
    }
   ],
   "source": [
    "(df.groupby('Tipo de Estratégia')['Sentença'].agg('Taxa de Ganho': mean()*100).round(2)) "
   ]
  },
  {
   "cell_type": "code",
   "execution_count": null,
   "metadata": {},
   "outputs": [
    {
     "name": "stdout",
     "output_type": "stream",
     "text": [
      "Tipo de Estratégia\n",
      "Estrategia A    (32.38, 47.88)\n",
      "Estrategia B    (44.81, 61.86)\n",
      "Estrategia C     (33.38, 48.9)\n",
      "Name: Sentença, dtype: object\n"
     ]
    }
   ],
   "source": [
    "import scipy.stats as stats\n",
    "\n",
    "# Função para calcular o intervalo de confiança\n",
    "def confidence_interval(data):\n",
    "    mean = data.mean()\n",
    "    std_error = stats.sem(data)\n",
    "    # Defina o nível de confiança desejado, por exemplo, 95%\n",
    "    confidence_level = 0.95\n",
    "    # Use a distribuição t de Student para calcular o intervalo de confiança\n",
    "    t = stats.t.ppf((1 + confidence_level) / 2, len(data) - 1)\n",
    "    margin_of_error = t * std_error\n",
    "    lower_bound = mean - margin_of_error\n",
    "    upper_bound = mean + margin_of_error\n",
    "    return (lower_bound*100).round(2), (upper_bound*100).round(2)\n",
    "\n",
    "# Calcular o intervalo de confiança para cada grupo de 'Tipo de Estratégia'\n",
    "confidence_intervals = df.groupby('Tipo de Estratégia')['Sentença'].agg(confidence_interval)\n",
    "\n",
    "# Exibir os intervalos de confiança\n",
    "print(confidence_intervals)\n"
   ]
  },
  {
   "cell_type": "markdown",
   "metadata": {},
   "source": [
    "A estratégia B tem um intervalo de confiança mais alto do que as estratégias A e C, o que sugere que a média da taxa de ganho para a estratégia B pode ser mais alta."
   ]
  },
  {
   "cell_type": "code",
   "execution_count": 19,
   "metadata": {},
   "outputs": [
    {
     "data": {
      "image/png": "[encoded data removed]",
      "text/plain": [
       "<Figure size 800x600 with 1 Axes>"
      ]
     },
     "metadata": {},
     "output_type": "display_data"
    }
   ],
   "source": [
    "import matplotlib.pyplot as plt\n",
    "\n",
    "# Dados dos intervalos de confiança\n",
    "estrategias = ['Estrategia A', 'Estrategia B', 'Estrategia C']\n",
    "means = [39.13, 53.34, 41.14]  # Médias das taxas de ganho\n",
    "conf_ints = [(32.38, 47.88), (44.81, 61.86), (33.38, 48.9)]  # Intervalos de confiança\n",
    "\n",
    "# Calcular o tamanho das barras de erro (meia largura do intervalo de confiança)\n",
    "errors = [(conf[1] - conf[0]) / 2 for conf in conf_ints]\n",
    "\n",
    "# Plotar apenas as barras de erro\n",
    "plt.figure(figsize=(8, 6))\n",
    "for i, (mean, error) in enumerate(zip(means, errors)):\n",
    "    plt.errorbar(mean, i, xerr=error, fmt='o', color='black', capsize=5, elinewidth=2)\n",
    "\n",
    "plt.xlabel('Taxa de Ganho Média')\n",
    "plt.ylabel('Tipo de Estratégia')\n",
    "plt.title('Intervalo de Confiança para a Taxa de Ganho por Estratégia')\n",
    "plt.grid(axis='y', linestyle='--', alpha=0.7)\n",
    "plt.yticks(range(len(estrategias)), estrategias)  # Definir os rótulos do eixo y\n",
    "plt.show()\n"
   ]
  },
  {
   "cell_type": "markdown",
   "metadata": {},
   "source": [
    "## Teste de Hipoteses para testar se há diferença de Taxa de Ganhos entre as estratégias\n",
    "\n",
    "### Spoiler:\n",
    "- Há evidências para rejeitar A<B\n",
    "\n",
    "- Não há evidências para Rejeitar A=C\n",
    "\n",
    "- Não há evidências para falar C<B"
   ]
  },
  {
   "cell_type": "code",
   "execution_count": null,
   "metadata": {},
   "outputs": [],
   "source": []
  },
  {
   "cell_type": "markdown",
   "metadata": {},
   "source": [
    "## Modelo de Regressão"
   ]
  },
  {
   "cell_type": "code",
   "execution_count": 21,
   "metadata": {},
   "outputs": [
    {
     "name": "stdout",
     "output_type": "stream",
     "text": [
      "Acurácia do modelo: 1.0\n"
     ]
    }
   ],
   "source": [
    "from sklearn.model_selection import train_test_split\n",
    "from sklearn.linear_model import LogisticRegression\n",
    "from sklearn.preprocessing import LabelEncoder\n",
    "\n",
    "df2 = df.drop(['Sentença Final', 'Data_Julgamento'], axis=1)\n",
    "# Convertendo variáveis categóricas em numéricas\n",
    "le = LabelEncoder()\n",
    "df2['Região da Comarca'] = le.fit_transform(df2['Região da Comarca'])\n",
    "df2['Tipo de Estratégia'] = le.fit_transform(df2['Tipo de Estratégia'])\n",
    "df2['Tipo de Processo'] = le.fit_transform(df2['Tipo de Processo'])\n",
    "\n",
    "# Convertendo a coluna de data para o tipo datetime\n",
    "#\n",
    "\n",
    "\n",
    "# Extrair dia, mês e ano da coluna 'Data_Julgamento'\n",
    "#df2['Dia'] = df2['Data_Julgamento'].dt.day\n",
    "#df2['Mês'] = df2['Data_Julgamento'].dt.month\n",
    "#df2['Ano'] = df2['Data_Julgamento'].dt.year\n",
    "\n",
    "# Removendo a coluna 'Data_Julgamento'\n",
    "#df.drop(columns=['Data_Julgamento'], inplace=True)\n",
    "\n",
    "# Definindo features e target\n",
    "X = df2.drop('Sentença', axis=1)\n",
    "y = df2['Sentença']\n",
    "\n",
    "# Dividindo os dados em conjunto de treino e teste\n",
    "X_train, X_test, y_train, y_test = train_test_split(X, y, test_size=0.2, random_state=42)\n",
    "\n",
    "# Criando e treinando o modelo de Regressão Logística\n",
    "model = LogisticRegression()\n",
    "model.fit(X_train, y_train)\n",
    "\n",
    "# Calculando a acurácia do modelo\n",
    "accuracy = model.score(X_test, y_test)\n",
    "print(f'Acurácia do modelo: {accuracy}')"
   ]
  },
  {
   "cell_type": "code",
   "execution_count": 28,
   "metadata": {},
   "outputs": [
    {
     "name": "stdout",
     "output_type": "stream",
     "text": [
      "[[1.000000e+00 0.000000e+00]\n",
      " [1.000000e+00 0.000000e+00]\n",
      " [1.000000e+00 0.000000e+00]\n",
      " [1.000000e-07 9.999999e-01]\n",
      " [1.000000e+00 0.000000e+00]]\n"
     ]
    }
   ],
   "source": [
    "# Calculando as probabilidades previstas para o conjunto de teste\n",
    "probabilidades = model.predict_proba(X_test)\n",
    "\n",
    "# Exibindo as probabilidades previstas para as primeiras 5 amostras do conjunto de teste\n",
    "print(probabilidades[:5].round(7))\n",
    "\n"
   ]
  }
 ],
 "metadata": {
  "kernelspec": {
   "display_name": "Python 3",
   "language": "python",
   "name": "python3"
  },
  "language_info": {
   "codemirror_mode": {
    "name": "ipython",
    "version": 3
   },
   "file_extension": ".py",
   "mimetype": "text/x-python",
   "name": "python",
   "nbconvert_exporter": "python",
   "pygments_lexer": "ipython3",
   "version": "3.11.2"
  }
 },
 "nbformat": 4,
 "nbformat_minor": 2
}
