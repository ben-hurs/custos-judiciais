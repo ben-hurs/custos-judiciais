{
 "cells": [
  {
   "cell_type": "markdown",
   "metadata": {},
   "source": [
    "# Bibliotecas"
   ]
  },
  {
   "cell_type": "code",
   "execution_count": 3,
   "metadata": {},
   "outputs": [],
   "source": [
    "import pandas as pd"
   ]
  },
  {
   "cell_type": "markdown",
   "metadata": {},
   "source": [
    "# Leitura de dados"
   ]
  },
  {
   "cell_type": "code",
   "execution_count": 5,
   "metadata": {},
   "outputs": [
    {
     "data": {
      "text/html": [
       "<div>\n",
       "<style scoped>\n",
       "    .dataframe tbody tr th:only-of-type {\n",
       "        vertical-align: middle;\n",
       "    }\n",
       "\n",
       "    .dataframe tbody tr th {\n",
       "        vertical-align: top;\n",
       "    }\n",
       "\n",
       "    .dataframe thead th {\n",
       "        text-align: right;\n",
       "    }\n",
       "</style>\n",
       "<table border=\"1\" class=\"dataframe\">\n",
       "  <thead>\n",
       "    <tr style=\"text-align: right;\">\n",
       "      <th></th>\n",
       "      <th>Sentença</th>\n",
       "      <th>Data_Julgamento</th>\n",
       "      <th>Região da Comarca</th>\n",
       "      <th>Tipo de Estratégia</th>\n",
       "      <th>Taxa Contratada</th>\n",
       "      <th>Valor Indenização</th>\n",
       "    </tr>\n",
       "  </thead>\n",
       "  <tbody>\n",
       "    <tr>\n",
       "      <th>0</th>\n",
       "      <td>1</td>\n",
       "      <td>2019-07-01</td>\n",
       "      <td>Oeste</td>\n",
       "      <td>Estrategia C</td>\n",
       "      <td>3.1</td>\n",
       "      <td>0.000000</td>\n",
       "    </tr>\n",
       "    <tr>\n",
       "      <th>1</th>\n",
       "      <td>1</td>\n",
       "      <td>2019-07-01</td>\n",
       "      <td>Norte</td>\n",
       "      <td>Estrategia C</td>\n",
       "      <td>2.5</td>\n",
       "      <td>0.000000</td>\n",
       "    </tr>\n",
       "    <tr>\n",
       "      <th>2</th>\n",
       "      <td>0</td>\n",
       "      <td>2019-07-02</td>\n",
       "      <td>Sul</td>\n",
       "      <td>Estrategia A</td>\n",
       "      <td>4.0</td>\n",
       "      <td>2247.437094</td>\n",
       "    </tr>\n",
       "    <tr>\n",
       "      <th>3</th>\n",
       "      <td>1</td>\n",
       "      <td>2019-07-02</td>\n",
       "      <td>Sul</td>\n",
       "      <td>Estrategia B</td>\n",
       "      <td>2.6</td>\n",
       "      <td>0.000000</td>\n",
       "    </tr>\n",
       "    <tr>\n",
       "      <th>4</th>\n",
       "      <td>1</td>\n",
       "      <td>2019-07-03</td>\n",
       "      <td>Oeste</td>\n",
       "      <td>Estrategia B</td>\n",
       "      <td>4.1</td>\n",
       "      <td>0.000000</td>\n",
       "    </tr>\n",
       "  </tbody>\n",
       "</table>\n",
       "</div>"
      ],
      "text/plain": [
       "   Sentença Data_Julgamento Região da Comarca Tipo de Estratégia   \n",
       "0         1      2019-07-01             Oeste       Estrategia C  \\\n",
       "1         1      2019-07-01             Norte       Estrategia C   \n",
       "2         0      2019-07-02               Sul       Estrategia A   \n",
       "3         1      2019-07-02               Sul       Estrategia B   \n",
       "4         1      2019-07-03             Oeste       Estrategia B   \n",
       "\n",
       "   Taxa Contratada  Valor Indenização  \n",
       "0              3.1           0.000000  \n",
       "1              2.5           0.000000  \n",
       "2              4.0        2247.437094  \n",
       "3              2.6           0.000000  \n",
       "4              4.1           0.000000  "
      ]
     },
     "execution_count": 5,
     "metadata": {},
     "output_type": "execute_result"
    }
   ],
   "source": [
    "df = pd.read_excel(\"Base_Juridico.xlsx\", sheet_name=1)\n",
    "df.head()"
   ]
  },
  {
   "cell_type": "code",
   "execution_count": null,
   "metadata": {},
   "outputs": [],
   "source": []
  },
  {
   "cell_type": "code",
   "execution_count": 6,
   "metadata": {},
   "outputs": [
    {
     "data": {
      "text/plain": [
       "Sentença                       int64\n",
       "Data_Julgamento       datetime64[ns]\n",
       "Região da Comarca             object\n",
       "Tipo de Estratégia            object\n",
       "Taxa Contratada              float64\n",
       "Valor Indenização            float64\n",
       "dtype: object"
      ]
     },
     "execution_count": 6,
     "metadata": {},
     "output_type": "execute_result"
    }
   ],
   "source": [
    "df.dtypes"
   ]
  },
  {
   "cell_type": "markdown",
   "metadata": {},
   "source": [
    "# Análise Exploratória"
   ]
  },
  {
   "cell_type": "code",
   "execution_count": 12,
   "metadata": {},
   "outputs": [
    {
     "data": {
      "text/html": [
       "<div>\n",
       "<style scoped>\n",
       "    .dataframe tbody tr th:only-of-type {\n",
       "        vertical-align: middle;\n",
       "    }\n",
       "\n",
       "    .dataframe tbody tr th {\n",
       "        vertical-align: top;\n",
       "    }\n",
       "\n",
       "    .dataframe thead th {\n",
       "        text-align: right;\n",
       "    }\n",
       "</style>\n",
       "<table border=\"1\" class=\"dataframe\">\n",
       "  <thead>\n",
       "    <tr style=\"text-align: right;\">\n",
       "      <th></th>\n",
       "      <th>Frequência Absoluta</th>\n",
       "      <th>Frequência Relativa</th>\n",
       "    </tr>\n",
       "    <tr>\n",
       "      <th>Região da Comarca</th>\n",
       "      <th></th>\n",
       "      <th></th>\n",
       "    </tr>\n",
       "  </thead>\n",
       "  <tbody>\n",
       "    <tr>\n",
       "      <th>Centro</th>\n",
       "      <td>95</td>\n",
       "      <td>21.11</td>\n",
       "    </tr>\n",
       "    <tr>\n",
       "      <th>Sul</th>\n",
       "      <td>93</td>\n",
       "      <td>20.67</td>\n",
       "    </tr>\n",
       "    <tr>\n",
       "      <th>Norte</th>\n",
       "      <td>89</td>\n",
       "      <td>19.78</td>\n",
       "    </tr>\n",
       "    <tr>\n",
       "      <th>Leste</th>\n",
       "      <td>89</td>\n",
       "      <td>19.78</td>\n",
       "    </tr>\n",
       "    <tr>\n",
       "      <th>Oeste</th>\n",
       "      <td>84</td>\n",
       "      <td>18.67</td>\n",
       "    </tr>\n",
       "  </tbody>\n",
       "</table>\n",
       "</div>"
      ],
      "text/plain": [
       "                   Frequência Absoluta  Frequência Relativa\n",
       "Região da Comarca                                          \n",
       "Centro                              95                21.11\n",
       "Sul                                 93                20.67\n",
       "Norte                               89                19.78\n",
       "Leste                               89                19.78\n",
       "Oeste                               84                18.67"
      ]
     },
     "execution_count": 12,
     "metadata": {},
     "output_type": "execute_result"
    }
   ],
   "source": [
    "regiao_fa = df['Região da Comarca'].value_counts()\n",
    "regiao_fr = (df['Região da Comarca'].value_counts(normalize=True)*100).round(2)\n",
    "regiao_frequencia = pd.DataFrame({'Frequência Absoluta': regiao_fa,\n",
    "                      'Frequência Relativa': regiao_fr})\n",
    "regiao_frequencia"
   ]
  },
  {
   "cell_type": "code",
   "execution_count": 14,
   "metadata": {},
   "outputs": [
    {
     "data": {
      "text/html": [
       "<div>\n",
       "<style scoped>\n",
       "    .dataframe tbody tr th:only-of-type {\n",
       "        vertical-align: middle;\n",
       "    }\n",
       "\n",
       "    .dataframe tbody tr th {\n",
       "        vertical-align: top;\n",
       "    }\n",
       "\n",
       "    .dataframe thead th {\n",
       "        text-align: right;\n",
       "    }\n",
       "</style>\n",
       "<table border=\"1\" class=\"dataframe\">\n",
       "  <thead>\n",
       "    <tr style=\"text-align: right;\">\n",
       "      <th></th>\n",
       "      <th>Frequência Absoluta</th>\n",
       "      <th>Frequencia Relativa</th>\n",
       "    </tr>\n",
       "    <tr>\n",
       "      <th>Tipo de Estratégia</th>\n",
       "      <th></th>\n",
       "      <th></th>\n",
       "    </tr>\n",
       "  </thead>\n",
       "  <tbody>\n",
       "    <tr>\n",
       "      <th>Estrategia C</th>\n",
       "      <td>158</td>\n",
       "      <td>35.11</td>\n",
       "    </tr>\n",
       "    <tr>\n",
       "      <th>Estrategia A</th>\n",
       "      <td>157</td>\n",
       "      <td>34.89</td>\n",
       "    </tr>\n",
       "    <tr>\n",
       "      <th>Estrategia B</th>\n",
       "      <td>135</td>\n",
       "      <td>30.00</td>\n",
       "    </tr>\n",
       "  </tbody>\n",
       "</table>\n",
       "</div>"
      ],
      "text/plain": [
       "                    Frequência Absoluta  Frequencia Relativa\n",
       "Tipo de Estratégia                                          \n",
       "Estrategia C                        158                35.11\n",
       "Estrategia A                        157                34.89\n",
       "Estrategia B                        135                30.00"
      ]
     },
     "execution_count": 14,
     "metadata": {},
     "output_type": "execute_result"
    }
   ],
   "source": [
    "estrategia_fa = df['Tipo de Estratégia'].value_counts()\n",
    "estrategia_fr = (df['Tipo de Estratégia'].value_counts(normalize=True)*100).round(2)\n",
    "estrategia_frequencia = pd.DataFrame({'Frequência Absoluta': estrategia_fa,\n",
    "                                      'Frequencia Relativa': estrategia_fr})\n",
    "estrategia_frequencia"
   ]
  },
  {
   "cell_type": "code",
   "execution_count": null,
   "metadata": {},
   "outputs": [],
   "source": []
  },
  {
   "cell_type": "code",
   "execution_count": null,
   "metadata": {},
   "outputs": [],
   "source": []
  },
  {
   "cell_type": "code",
   "execution_count": null,
   "metadata": {},
   "outputs": [],
   "source": []
  },
  {
   "cell_type": "code",
   "execution_count": null,
   "metadata": {},
   "outputs": [],
   "source": []
  },
  {
   "cell_type": "code",
   "execution_count": null,
   "metadata": {},
   "outputs": [],
   "source": []
  },
  {
   "cell_type": "code",
   "execution_count": null,
   "metadata": {},
   "outputs": [],
   "source": []
  }
 ],
 "metadata": {
  "kernelspec": {
   "display_name": "Python 3",
   "language": "python",
   "name": "python3"
  },
  "language_info": {
   "codemirror_mode": {
    "name": "ipython",
    "version": 3
   },
   "file_extension": ".py",
   "mimetype": "text/x-python",
   "name": "python",
   "nbconvert_exporter": "python",
   "pygments_lexer": "ipython3",
   "version": "3.11.2"
  }
 },
 "nbformat": 4,
 "nbformat_minor": 2
}
